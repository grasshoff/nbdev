{
 "cells": [
  {
   "cell_type": "code",
   "execution_count": null,
   "metadata": {},
   "outputs": [],
   "source": [
    "#hide\n",
    "from nbdev_template.core import *"
   ]
  },
  {
   "cell_type": "markdown",
   "metadata": {},
   "source": [
    "# Check Metadata and Upload to Zenodo\n",
    "\n",
    "> This notebook will check the metadata according to certain norms and if they are correct, it will upload the data to Zenodo."
   ]
  },
  {
   "cell_type": "markdown",
   "metadata": {},
   "source": [
    "## Packages"
   ]
  },
  {
   "cell_type": "code",
   "execution_count": 28,
   "metadata": {},
   "outputs": [],
   "source": [
    "import yaml\n",
    "from pathlib import Path\n",
    "import pandas as pd\n",
    "import sys\n",
    "import requests"
   ]
  },
  {
   "cell_type": "markdown",
   "metadata": {},
   "source": [
    "## Definitions"
   ]
  },
  {
   "cell_type": "code",
   "execution_count": 29,
   "metadata": {},
   "outputs": [],
   "source": [
    "def openfile(f):\n",
    "    ending = str(f).split('.')[-1]\n",
    "    path = str(f)\n",
    "    if ending == 'json':\n",
    "        try:\n",
    "            d = pd.read_json(path, orient = 'table')\n",
    "        except:\n",
    "            d = pd.read_json(path)\n",
    "    if ending == 'csv':\n",
    "        try:\n",
    "            d = pd.read_csv(path, delimiter = ',')\n",
    "        except:\n",
    "            d = pd.read_csv(path, delimiter = '\\t')\n",
    "    if ending == 'yaml' or ending == 'cite':\n",
    "        with open(path) as yml:\n",
    "            d = yaml.load(yml, Loader=yaml.FullLoader)\n",
    "    return d\n",
    "\n",
    "def findkeys(c):\n",
    "    ck = list(c.keys())\n",
    "    mk = list(c['Metadata'].keys())\n",
    "    prk = [list(i.keys()) for i in c['Resources']]\n",
    "    rk = [list(i.keys()) for i in c['Resources']][0]\n",
    "    ak = [list(i['Attributes'].keys()) for i in c['Resources']]\n",
    "    return ck, mk, prk, rk, ak\n",
    "\n",
    "def checkVal(c, mk, ak):\n",
    "    mke = []\n",
    "    for i in mk:\n",
    "        if c['Metadata'][i].strip() == '':\n",
    "            print('Key {} may not be empty!'.format(i))\n",
    "            mke.append(i)\n",
    "    ake = []\n",
    "    for i in ak:\n",
    "        a = []\n",
    "        for j in range(len(i)):\n",
    "            if i[j].strip() == '':\n",
    "                print('Key {} may not be empty!'.format(i[j]))\n",
    "                mke.append(i[j])\n",
    "    if not (mke or ake):\n",
    "        message = None\n",
    "        print('All metadata keys and attributes are filled, wonderful!')\n",
    "    else:\n",
    "        message = 'bad'\n",
    "    return mke, ake, message\n",
    "\n",
    "def checkkeys(pk, k):\n",
    "    ke = []\n",
    "    for i in pk:\n",
    "        if i not in k:\n",
    "            message = 'bad'\n",
    "            print('The key {} does not exist in your metadata, please add it!'.format(i))\n",
    "            ke.append(i)\n",
    "        else:\n",
    "            message = None\n",
    "    return ke, message\n",
    "\n",
    "def congrat(c1, c2, c3):\n",
    "    if not (c1 or c2 or c3):\n",
    "        message = None\n",
    "        print('Congrats, all keys are set!')\n",
    "    else:\n",
    "        message = 'bad'\n",
    "    return message\n",
    "\n",
    "def comparekeys(allfn, cf, caks, dataDFkeys):\n",
    "    if allfn != cf:\n",
    "        missf = cf - allfn\n",
    "        addedf = allfn - cf\n",
    "        message = 'bad'\n",
    "        print('You did not commented the file {} in your cite! Please to so!'.format(missf))\n",
    "        print('The file {} is not in the directory, please remove it from the cite!'.format(addedf))\n",
    "    else:\n",
    "        missf = None\n",
    "        addedf = None\n",
    "        missk = []\n",
    "        addedk = []\n",
    "        allfn = list(allfn)\n",
    "        messages = []\n",
    "        for i in range(len(allfn)):\n",
    "            print(allfn[i])\n",
    "            print(i)\n",
    "            if caks[i] != dataDFkeys[i]:\n",
    "                misski = dataDFkeys[i] - caks[i]\n",
    "                addedki = caks[i] - dataDFkeys[i]\n",
    "                messages.append('bad')\n",
    "                print('You did not commented the key {} in your cite! Please to so!'.format(misski))\n",
    "                print('The key {} is not your data, please remove it from the cite!'.format(addedki))\n",
    "                missk.append(misski)\n",
    "                addedk.append(addedki)\n",
    "        if len(messages) == 0:\n",
    "            message = None\n",
    "        else:\n",
    "            message = 'bad'\n",
    "                \n",
    "    return missf, addedf, missk, addedk, message"
   ]
  },
  {
   "cell_type": "code",
   "execution_count": 30,
   "metadata": {},
   "outputs": [],
   "source": [
    "def makeEmptyUpload(sandbox, ACCESS_TOKEN):\n",
    "    \n",
    "    # Create empty upload first to get the bucket_url\n",
    "    headers = {\"Content-Type\": \"application/json\"}\n",
    "    params = {'access_token': ACCESS_TOKEN}\n",
    "    if sandbox:\n",
    "        r = requests.post('https://sandbox.zenodo.org/api/deposit/depositions', params=params, json={}, headers=headers)\n",
    "    else:\n",
    "        r = requests.post('https://zenodo.org/api/deposit/depositions', params=params, json={}, headers=headers)\n",
    "    print(r.status_code)\n",
    "    bucket_url = r.json()[\"links\"][\"bucket\"]\n",
    "    return bucket_url, params\n",
    "\n",
    "def uploadOneFile(bucket_url, params, filepath):\n",
    "\n",
    "    # Give file\n",
    "    p = Path(filepath)\n",
    "    file = p.open(\"rb\")\n",
    "    filename = p.name\n",
    "    \n",
    "    # Upload file\n",
    "    r = requests.put(\"%s/%s\" % (bucket_url, filename), data=file, params=params)\n",
    "    \n",
    "    return r.json()\n",
    "    \n",
    "def uploadDirectory(bucket_url, params, dirpath):\n",
    "\n",
    "    # Find all files in directory\n",
    "    \n",
    "    p = Path(dirpath)\n",
    "    allfil = list(p.glob('*'))\n",
    "    allfiles = [i.open(\"rb\") for i in allfil]\n",
    "    allfilenames = [i.name for i in allfil]\n",
    "    \n",
    "    # Upload files\n",
    "    rs = []\n",
    "    for i in range(len(allfiles)):\n",
    "        r = requests.put(\"%s/%s\" % (bucket_url, allfilenames[i]), data=allfiles[i], params=params)\n",
    "        rs.append(r.json())\n",
    "    return rs"
   ]
  },
  {
   "cell_type": "markdown",
   "metadata": {},
   "source": [
    "## publprofil"
   ]
  },
  {
   "cell_type": "code",
   "execution_count": 31,
   "metadata": {},
   "outputs": [],
   "source": [
    "with open('./publprofil.yaml') as yml:\n",
    "    pp = yaml.load(yml, Loader=yaml.FullLoader)\n",
    "pp = pp['ResearchObject']"
   ]
  },
  {
   "cell_type": "code",
   "execution_count": 32,
   "metadata": {},
   "outputs": [],
   "source": [
    "pck, pmk, pprk, prk, pak = findkeys(pp)"
   ]
  },
  {
   "cell_type": "markdown",
   "metadata": {},
   "source": [
    "## Dataset"
   ]
  },
  {
   "cell_type": "code",
   "execution_count": 33,
   "metadata": {},
   "outputs": [],
   "source": [
    "p = Path('./data/Parapegmata')"
   ]
  },
  {
   "cell_type": "code",
   "execution_count": 34,
   "metadata": {},
   "outputs": [],
   "source": [
    "allfile = list(p.glob('*'))"
   ]
  },
  {
   "cell_type": "code",
   "execution_count": 35,
   "metadata": {},
   "outputs": [],
   "source": [
    "allfn = set([i.name for i in allfile if not i.suffix == '.cite'])"
   ]
  },
  {
   "cell_type": "markdown",
   "metadata": {},
   "source": [
    "### Cite"
   ]
  },
  {
   "cell_type": "code",
   "execution_count": 36,
   "metadata": {},
   "outputs": [],
   "source": [
    "c = list(sorted([i for i in allfile if str(i).split('.')[-1] == 'cite']))[0]"
   ]
  },
  {
   "cell_type": "code",
   "execution_count": 37,
   "metadata": {},
   "outputs": [],
   "source": [
    "cite = openfile(c)['ResearchObject']"
   ]
  },
  {
   "cell_type": "code",
   "execution_count": 38,
   "metadata": {},
   "outputs": [],
   "source": [
    "cck, cmk, cprk, crk, cak = findkeys(cite)"
   ]
  },
  {
   "cell_type": "code",
   "execution_count": 39,
   "metadata": {},
   "outputs": [],
   "source": [
    "caks = [set(i) for i in cak]"
   ]
  },
  {
   "cell_type": "code",
   "execution_count": 40,
   "metadata": {},
   "outputs": [],
   "source": [
    "cf = set([i['File'.lower()] for i in cite['Resources']])"
   ]
  },
  {
   "cell_type": "markdown",
   "metadata": {},
   "source": [
    "### Data"
   ]
  },
  {
   "cell_type": "code",
   "execution_count": 41,
   "metadata": {},
   "outputs": [],
   "source": [
    "d = list(sorted([i for i in allfile if not i.suffix == '.cite']))"
   ]
  },
  {
   "cell_type": "code",
   "execution_count": 42,
   "metadata": {},
   "outputs": [],
   "source": [
    "dataDFkeys = [set(openfile(f).keys()) for f in d]"
   ]
  },
  {
   "cell_type": "markdown",
   "metadata": {},
   "source": [
    "#### Check Metadata keys & Attributes are not empty:"
   ]
  },
  {
   "cell_type": "code",
   "execution_count": 43,
   "metadata": {},
   "outputs": [
    {
     "name": "stdout",
     "output_type": "stream",
     "text": [
      "All metadata keys and attributes are filled, wonderful!\n"
     ]
    }
   ],
   "source": [
    "cmke, cake, message1 = checkVal(cite, pmk, pak)"
   ]
  },
  {
   "cell_type": "markdown",
   "metadata": {},
   "source": [
    "#### Check existence of all keys:"
   ]
  },
  {
   "cell_type": "code",
   "execution_count": 44,
   "metadata": {},
   "outputs": [
    {
     "name": "stdout",
     "output_type": "stream",
     "text": [
      "The key File does not exist in your metadata, please add it!\n",
      "The key File does not exist in your metadata, please add it!\n",
      "The key File does not exist in your metadata, please add it!\n",
      "The key File does not exist in your metadata, please add it!\n",
      "The key File does not exist in your metadata, please add it!\n",
      "The key File does not exist in your metadata, please add it!\n",
      "The key File does not exist in your metadata, please add it!\n",
      "The key File does not exist in your metadata, please add it!\n"
     ]
    }
   ],
   "source": [
    "c1 = checkkeys(pck, cck)\n",
    "c2 = checkkeys(pmk, cmk)\n",
    "c3 = []\n",
    "for i in cprk:\n",
    "    c3.append(checkkeys(prk, i))\n",
    "message2 = congrat(c1, c2, c3)"
   ]
  },
  {
   "cell_type": "markdown",
   "metadata": {},
   "source": [
    "#### If data is identical to cite:"
   ]
  },
  {
   "cell_type": "code",
   "execution_count": 45,
   "metadata": {},
   "outputs": [
    {
     "name": "stdout",
     "output_type": "stream",
     "text": [
      "Oxford.json\n",
      "0\n",
      "You did not commented the key {'addition_ID', 'addition_greek', 'feast', 'feast_greek', 'zodiac_part', 'ID', 'feast_ID', 'text_string', 'zodiac_part_ID', 'addition'} in your cite! Please to so!\n",
      "The key {'meteo_event_class', 'parallel', 'authority', 'meteo_event_class_ID', 'authority_ID', 'parallel_ID', 'record_ID'} is not your data, please remove it from the cite!\n",
      "Paris.json\n",
      "1\n",
      "Milet.json\n",
      "2\n",
      "You did not commented the key {'month_ID', 'night_length_greek', 'meteo_statement', 'day', 'text_passage', 'day_length_footnote', 'night_length_footnote', 'column', 'addition_text_string_greek', 'addition_text_string', 'night_length', 'day_length', 'zodiac_part', 'fragment', 'night_length_fractions', 'season', 'month', 'day_length_greek', 'season_ID', 'season_greek', 'day_length_fractions', 'meteo_addition_text_string_greek', 'meteo_addition_text_string', 'length_month', 'zodiac_part_ID'} in your cite! Please to so!\n",
      "The key {'authority_ID_Meteo', 'fragment_ID', 'meteo_event_class', 'hole_type_ID', 'authority_Meteo', 'meteo_event_class_ID', 'hole_type', 'authority_Astro', 'authority_ID_Astro', 'hole_No'} is not your data, please remove it from the cite!\n",
      "Phaseis.json\n",
      "3\n",
      "You did not commented the key {'supplement_Meteo', 'supplement_ID'} in your cite! Please to so!\n",
      "The key {'addition_ID', 'addition_greek', 'feast', 'feast_greek', 'zodiac_part', 'feast_ID', 'zodiac_part_ID', 'addition'} is not your data, please remove it from the cite!\n",
      "Geminos.json\n",
      "4\n",
      "You did not commented the key {'authority_ID_Meteo', 'fragment_ID', 'meteo_event_class', 'hole_type_ID', 'authority_Meteo', 'meteo_event_class_ID', 'hole_type', 'authority_Astro', 'authority_ID_Astro', 'hole_No'} in your cite! Please to so!\n",
      "The key {'month_ID', 'night_length_greek', 'meteo_statement', 'day', 'text_passage', 'day_length_footnote', 'night_length_footnote', 'column', 'addition_text_string_greek', 'addition_text_string', 'night_length', 'type', 'day_length', 'zodiac_part', 'fragment', 'night_length_fractions', 'season', 'month', 'day_length_greek', 'season_ID', 'season_greek', 'day_length_fractions', 'meteo_addition_text_string_greek', 'meteo_addition_text_string', 'length_month', 'zodiac_part_ID'} is not your data, please remove it from the cite!\n",
      "Hibeh.json\n",
      "5\n",
      "You did not commented the key {'meteo_event_class', 'feast', 'feast_greek', 'meteo_event_class_ID', 'feast_ID'} in your cite! Please to so!\n",
      "The key {'text_string', 'supplement_Meteo', 'supplement_ID'} is not your data, please remove it from the cite!\n",
      "Madrid.json\n",
      "6\n",
      "You did not commented the key {'addition_ID', 'supplement_ID', 'addition_greek', 'authority', 'status', 'Authority_ID', 'addition'} in your cite! Please to so!\n",
      "The key {'feast_ID', 'feast_greek', 'feast'} is not your data, please remove it from the cite!\n",
      "Antiochos.json\n",
      "7\n",
      "You did not commented the key {'authority_ID', 'record_ID', 'parallel_ID', 'parallel'} in your cite! Please to so!\n",
      "The key {'addition_ID', 'supplement_ID', 'addition_greek', 'status', 'ID', 'Authority_ID', 'addition'} is not your data, please remove it from the cite!\n"
     ]
    }
   ],
   "source": [
    "missf, addedf, missk, addedk, message3 = comparekeys(allfn, cf, caks, dataDFkeys)"
   ]
  },
  {
   "cell_type": "markdown",
   "metadata": {},
   "source": [
    "## Upload on Zenodo"
   ]
  },
  {
   "cell_type": "markdown",
   "metadata": {},
   "source": [
    "If there is any error in the cite, the process is terminated; otherwise one proceed with upload."
   ]
  },
  {
   "cell_type": "code",
   "execution_count": 46,
   "metadata": {},
   "outputs": [
    {
     "ename": "SystemExit",
     "evalue": "",
     "output_type": "error",
     "traceback": [
      "An exception has occurred, use %tb to see the full traceback.\n",
      "\u001b[1;31mSystemExit\u001b[0m\n"
     ]
    }
   ],
   "source": [
    "if (message1 or message2 or message3):\n",
    "    sys.exit()"
   ]
  },
  {
   "cell_type": "markdown",
   "metadata": {},
   "source": [
    "sandbox (for testing purposes) = sandbox ACCESS_TOKEN from https://sandbox.zenodo.org/account/settings/applications/tokens/new/\n",
    "\n",
    "real data (for real upload) = ACCESS_TOKEN from https://zenodo.org/account/settings/applications/tokens/new/"
   ]
  },
  {
   "cell_type": "code",
   "execution_count": 47,
   "metadata": {},
   "outputs": [],
   "source": [
    "''' \n",
    "    Register for a Zenodo sandbox account if you don’t already have one.\n",
    "    Go to https://sandbox.zenodo.org/account/settings/applications/tokens/new/.\n",
    "    Select the OAuth scopes you need (for the quick start tutorial you need deposit:write and deposit:actions).\n",
    "    Please insert your just generated token for ... below.\n",
    "'''\n",
    "\n",
    "ACCESS_TOKEN = '...'"
   ]
  },
  {
   "cell_type": "markdown",
   "metadata": {},
   "source": [
    "ONLY CHANGE SANDBOX TO FALSE IF YOU KNOW WHAT YOU ARE DOING, THIS WILL BE A REAL UPLOAD THEN! If you want to test something always use sandbox!"
   ]
  },
  {
   "cell_type": "code",
   "execution_count": 48,
   "metadata": {},
   "outputs": [
    {
     "name": "stdout",
     "output_type": "stream",
     "text": [
      "201\n"
     ]
    }
   ],
   "source": [
    "bucket_url, params = makeEmptyUpload(True, ACCESS_TOKEN)"
   ]
  },
  {
   "cell_type": "markdown",
   "metadata": {},
   "source": [
    "If you get a number lower than 400 everything is fine!"
   ]
  },
  {
   "cell_type": "code",
   "execution_count": 49,
   "metadata": {
    "scrolled": false
   },
   "outputs": [
    {
     "data": {
      "text/plain": [
       "[{'mimetype': 'application/json',\n",
       "  'updated': '2020-10-14T14:47:30.838604+00:00',\n",
       "  'links': {'self': 'https://sandbox.zenodo.org/api/files/125bd150-85df-4c93-9ca5-d8ca03b926e7/Antiochos.json',\n",
       "   'version': 'https://sandbox.zenodo.org/api/files/125bd150-85df-4c93-9ca5-d8ca03b926e7/Antiochos.json?versionId=6d0fb48e-5af2-4a83-a130-7bbfb81afc57',\n",
       "   'uploads': 'https://sandbox.zenodo.org/api/files/125bd150-85df-4c93-9ca5-d8ca03b926e7/Antiochos.json?uploads'},\n",
       "  'is_head': True,\n",
       "  'created': '2020-10-14T14:47:30.832807+00:00',\n",
       "  'checksum': 'md5:9f8b8b88c310dc7256f23ae114eecb10',\n",
       "  'version_id': '6d0fb48e-5af2-4a83-a130-7bbfb81afc57',\n",
       "  'delete_marker': False,\n",
       "  'key': 'Antiochos.json',\n",
       "  'size': 78439},\n",
       " {'mimetype': 'application/json',\n",
       "  'updated': '2020-10-14T14:47:31.132815+00:00',\n",
       "  'links': {'self': 'https://sandbox.zenodo.org/api/files/125bd150-85df-4c93-9ca5-d8ca03b926e7/Geminos.json',\n",
       "   'version': 'https://sandbox.zenodo.org/api/files/125bd150-85df-4c93-9ca5-d8ca03b926e7/Geminos.json?versionId=9120551b-d93f-415f-a116-90676f0cc84e',\n",
       "   'uploads': 'https://sandbox.zenodo.org/api/files/125bd150-85df-4c93-9ca5-d8ca03b926e7/Geminos.json?uploads'},\n",
       "  'is_head': True,\n",
       "  'created': '2020-10-14T14:47:31.125574+00:00',\n",
       "  'checksum': 'md5:84278864159cdef63ed7f6e4dca997a5',\n",
       "  'version_id': '9120551b-d93f-415f-a116-90676f0cc84e',\n",
       "  'delete_marker': False,\n",
       "  'key': 'Geminos.json',\n",
       "  'size': 303197},\n",
       " {'mimetype': 'application/json',\n",
       "  'updated': '2020-10-14T14:47:31.413782+00:00',\n",
       "  'links': {'self': 'https://sandbox.zenodo.org/api/files/125bd150-85df-4c93-9ca5-d8ca03b926e7/Hibeh.json',\n",
       "   'version': 'https://sandbox.zenodo.org/api/files/125bd150-85df-4c93-9ca5-d8ca03b926e7/Hibeh.json?versionId=2629e429-99d9-470d-841d-879228845908',\n",
       "   'uploads': 'https://sandbox.zenodo.org/api/files/125bd150-85df-4c93-9ca5-d8ca03b926e7/Hibeh.json?uploads'},\n",
       "  'is_head': True,\n",
       "  'created': '2020-10-14T14:47:31.407519+00:00',\n",
       "  'checksum': 'md5:8e0d25ec5398bf288250ed6892ba6615',\n",
       "  'version_id': '2629e429-99d9-470d-841d-879228845908',\n",
       "  'delete_marker': False,\n",
       "  'key': 'Hibeh.json',\n",
       "  'size': 46200},\n",
       " {'mimetype': 'application/json',\n",
       "  'updated': '2020-10-14T14:47:31.695866+00:00',\n",
       "  'links': {'self': 'https://sandbox.zenodo.org/api/files/125bd150-85df-4c93-9ca5-d8ca03b926e7/Madrid.json',\n",
       "   'version': 'https://sandbox.zenodo.org/api/files/125bd150-85df-4c93-9ca5-d8ca03b926e7/Madrid.json?versionId=11972ddd-230d-4943-a687-27b6ff0a777c',\n",
       "   'uploads': 'https://sandbox.zenodo.org/api/files/125bd150-85df-4c93-9ca5-d8ca03b926e7/Madrid.json?uploads'},\n",
       "  'is_head': True,\n",
       "  'created': '2020-10-14T14:47:31.689574+00:00',\n",
       "  'checksum': 'md5:7c700e14d8d04d0041db949db451fb9b',\n",
       "  'version_id': '11972ddd-230d-4943-a687-27b6ff0a777c',\n",
       "  'delete_marker': False,\n",
       "  'key': 'Madrid.json',\n",
       "  'size': 83574},\n",
       " {'mimetype': 'application/json',\n",
       "  'updated': '2020-10-14T14:47:32.197854+00:00',\n",
       "  'links': {'self': 'https://sandbox.zenodo.org/api/files/125bd150-85df-4c93-9ca5-d8ca03b926e7/Milet.json',\n",
       "   'version': 'https://sandbox.zenodo.org/api/files/125bd150-85df-4c93-9ca5-d8ca03b926e7/Milet.json?versionId=a4b149cd-c36e-4d86-92b1-0f15a99ef6eb',\n",
       "   'uploads': 'https://sandbox.zenodo.org/api/files/125bd150-85df-4c93-9ca5-d8ca03b926e7/Milet.json?uploads'},\n",
       "  'is_head': True,\n",
       "  'created': '2020-10-14T14:47:32.192064+00:00',\n",
       "  'checksum': 'md5:b1ecb72148b8a5c3e878f3d074b8ad97',\n",
       "  'version_id': 'a4b149cd-c36e-4d86-92b1-0f15a99ef6eb',\n",
       "  'delete_marker': False,\n",
       "  'key': 'Milet.json',\n",
       "  'size': 28419},\n",
       " {'mimetype': 'application/json',\n",
       "  'updated': '2020-10-14T14:47:32.505985+00:00',\n",
       "  'links': {'self': 'https://sandbox.zenodo.org/api/files/125bd150-85df-4c93-9ca5-d8ca03b926e7/Oxford.json',\n",
       "   'version': 'https://sandbox.zenodo.org/api/files/125bd150-85df-4c93-9ca5-d8ca03b926e7/Oxford.json?versionId=4cdd7ed1-68c1-4d78-b3fe-106259db99ab',\n",
       "   'uploads': 'https://sandbox.zenodo.org/api/files/125bd150-85df-4c93-9ca5-d8ca03b926e7/Oxford.json?uploads'},\n",
       "  'is_head': True,\n",
       "  'created': '2020-10-14T14:47:32.498672+00:00',\n",
       "  'checksum': 'md5:e69ecabd1b3049fa858178cd0a4bfe67',\n",
       "  'version_id': '4cdd7ed1-68c1-4d78-b3fe-106259db99ab',\n",
       "  'delete_marker': False,\n",
       "  'key': 'Oxford.json',\n",
       "  'size': 33330},\n",
       " {'mimetype': 'application/octet-stream',\n",
       "  'updated': '2020-10-14T14:47:32.773611+00:00',\n",
       "  'links': {'self': 'https://sandbox.zenodo.org/api/files/125bd150-85df-4c93-9ca5-d8ca03b926e7/Parapegmata.cite',\n",
       "   'version': 'https://sandbox.zenodo.org/api/files/125bd150-85df-4c93-9ca5-d8ca03b926e7/Parapegmata.cite?versionId=4ae782dd-45ad-40ba-858b-72a30cd8e276',\n",
       "   'uploads': 'https://sandbox.zenodo.org/api/files/125bd150-85df-4c93-9ca5-d8ca03b926e7/Parapegmata.cite?uploads'},\n",
       "  'is_head': True,\n",
       "  'created': '2020-10-14T14:47:32.767986+00:00',\n",
       "  'checksum': 'md5:ffe53c1cefcede6529615ca3ca6d7db9',\n",
       "  'version_id': '4ae782dd-45ad-40ba-858b-72a30cd8e276',\n",
       "  'delete_marker': False,\n",
       "  'key': 'Parapegmata.cite',\n",
       "  'size': 16270},\n",
       " {'mimetype': 'application/json',\n",
       "  'updated': '2020-10-14T14:47:33.025750+00:00',\n",
       "  'links': {'self': 'https://sandbox.zenodo.org/api/files/125bd150-85df-4c93-9ca5-d8ca03b926e7/Paris.json',\n",
       "   'version': 'https://sandbox.zenodo.org/api/files/125bd150-85df-4c93-9ca5-d8ca03b926e7/Paris.json?versionId=b982d907-a3b0-472c-bf9c-130965cc566d',\n",
       "   'uploads': 'https://sandbox.zenodo.org/api/files/125bd150-85df-4c93-9ca5-d8ca03b926e7/Paris.json?uploads'},\n",
       "  'is_head': True,\n",
       "  'created': '2020-10-14T14:47:33.020506+00:00',\n",
       "  'checksum': 'md5:6917abbae53d2669ea1e773cf272c0a4',\n",
       "  'version_id': 'b982d907-a3b0-472c-bf9c-130965cc566d',\n",
       "  'delete_marker': False,\n",
       "  'key': 'Paris.json',\n",
       "  'size': 127034},\n",
       " {'mimetype': 'application/json',\n",
       "  'updated': '2020-10-14T14:47:33.387104+00:00',\n",
       "  'links': {'self': 'https://sandbox.zenodo.org/api/files/125bd150-85df-4c93-9ca5-d8ca03b926e7/Phaseis.json',\n",
       "   'version': 'https://sandbox.zenodo.org/api/files/125bd150-85df-4c93-9ca5-d8ca03b926e7/Phaseis.json?versionId=b6fc6f3b-a8ca-4235-9d7f-d6bc7fd7145e',\n",
       "   'uploads': 'https://sandbox.zenodo.org/api/files/125bd150-85df-4c93-9ca5-d8ca03b926e7/Phaseis.json?uploads'},\n",
       "  'is_head': True,\n",
       "  'created': '2020-10-14T14:47:33.379073+00:00',\n",
       "  'checksum': 'md5:33deed0fdb34e2ff81a5904430c7d1b1',\n",
       "  'version_id': 'b6fc6f3b-a8ca-4235-9d7f-d6bc7fd7145e',\n",
       "  'delete_marker': False,\n",
       "  'key': 'Phaseis.json',\n",
       "  'size': 920426}]"
      ]
     },
     "execution_count": 49,
     "metadata": {},
     "output_type": "execute_result"
    }
   ],
   "source": [
    "uploadDirectory(bucket_url, params, str(p.resolve()))"
   ]
  }
 ],
 "metadata": {
  "kernelspec": {
   "display_name": "Python 3",
   "language": "python",
   "name": "python3"
  },
  "language_info": {
   "codemirror_mode": {
    "name": "ipython",
    "version": 3
   },
   "file_extension": ".py",
   "mimetype": "text/x-python",
   "name": "python",
   "nbconvert_exporter": "python",
   "pygments_lexer": "ipython3",
   "version": "3.7.4"
  }
 },
 "nbformat": 4,
 "nbformat_minor": 2
}
